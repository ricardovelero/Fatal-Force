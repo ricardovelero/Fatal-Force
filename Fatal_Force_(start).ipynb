{
  "cells": [
    {
      "attachments": {},
      "cell_type": "markdown",
      "metadata": {
        "id": "0KrR-Qd_wXf-"
      },
      "source": [
        "# Introduction"
      ]
    },
    {
      "attachments": {},
      "cell_type": "markdown",
      "metadata": {
        "id": "I6e2m4XsuRoL"
      },
      "source": [
        "Since Jan. 1, 2015, [The Washington Post](https://www.washingtonpost.com/) has been compiling a database of every fatal shooting in the US by a police officer in the line of duty. \n",
        "\n",
        "<center><img src=https://i.imgur.com/sX3K62b.png></center>\n",
        "\n",
        "While there are many challenges regarding data collection and reporting, The Washington Post has been tracking more than a dozen details about each killing. This includes the race, age and gender of the deceased, whether the person was armed, and whether the victim was experiencing a mental-health crisis. The Washington Post has gathered this supplemental information from law enforcement websites, local new reports, social media, and by monitoring independent databases such as \"Killed by police\" and \"Fatal Encounters\". The Post has also conducted additional reporting in many cases.\n",
        "\n",
        "There are 4 additional datasets: US census data on poverty rate, high school graduation rate, median household income, and racial demographics. [Source of census data](https://factfinder.census.gov/faces/nav/jsf/pages/community_facts.xhtml)."
      ]
    },
    {
      "attachments": {},
      "cell_type": "markdown",
      "metadata": {
        "id": "JwGJl3mnw2Af"
      },
      "source": [
        "### Upgrade Plotly\n",
        "\n",
        "Run the cell below if you are working with Google Colab"
      ]
    },
    {
      "cell_type": "code",
      "execution_count": 2,
      "metadata": {
        "colab": {
          "base_uri": "https://localhost:8080/"
        },
        "id": "KvA9PBoRwvQG",
        "outputId": "ca6ee2a1-8da5-4f2d-f2b2-ea019cd92cae"
      },
      "outputs": [],
      "source": [
        "# %pip install --upgrade plotly"
      ]
    },
    {
      "attachments": {},
      "cell_type": "markdown",
      "metadata": {
        "id": "jqXsMLNJxELp"
      },
      "source": [
        "## Import Statements"
      ]
    },
    {
      "cell_type": "code",
      "execution_count": 3,
      "metadata": {
        "id": "TPhEXC2FxGSr"
      },
      "outputs": [],
      "source": [
        "import numpy as np\n",
        "import pandas as pd\n",
        "import plotly.express as px\n",
        "import matplotlib.pyplot as plt\n",
        "import seaborn as sns\n",
        "\n",
        "# This might be helpful:\n",
        "from collections import Counter"
      ]
    },
    {
      "attachments": {},
      "cell_type": "markdown",
      "metadata": {
        "id": "SwKGmmaLxS2s"
      },
      "source": [
        "## Notebook Presentation"
      ]
    },
    {
      "cell_type": "code",
      "execution_count": 4,
      "metadata": {
        "id": "ayQQqhKtxBxj"
      },
      "outputs": [],
      "source": [
        "pd.options.display.float_format = '{:,.2f}'.format"
      ]
    },
    {
      "attachments": {},
      "cell_type": "markdown",
      "metadata": {
        "id": "nKxJMOiMyAUF"
      },
      "source": [
        "## Load the Data"
      ]
    },
    {
      "cell_type": "code",
      "execution_count": 5,
      "metadata": {
        "_cell_guid": "abb0685f-f844-43f8-84c0-4cd54361c7bf",
        "_uuid": "9c06ed7c41db79ae9d940f2d52aeff23621b3037",
        "id": "8KmGeg6ouRoP"
      },
      "outputs": [],
      "source": [
        "df_hh_income = pd.read_csv('Median_Household_Income_2015.csv', encoding=\"windows-1252\")\n",
        "df_pct_poverty = pd.read_csv('Pct_People_Below_Poverty_Level.csv', encoding=\"windows-1252\")\n",
        "df_pct_completed_hs = pd.read_csv('Pct_Over_25_Completed_High_School.csv', encoding=\"windows-1252\")\n",
        "df_share_race_city = pd.read_csv('Share_of_Race_By_City.csv', encoding=\"windows-1252\")\n",
        "df_fatalities = pd.read_csv('Deaths_by_Police_US.csv', encoding=\"windows-1252\")"
      ]
    },
    {
      "attachments": {},
      "cell_type": "markdown",
      "metadata": {
        "id": "6RuA5SvUyEaB"
      },
      "source": [
        "# Preliminary Data Exploration\n",
        "\n",
        "* What is the shape of the DataFrames? \n",
        "* How many rows and columns do they have?\n",
        "* What are the column names?\n",
        "* Are there any NaN values or duplicates?"
      ]
    },
    {
      "cell_type": "code",
      "execution_count": 6,
      "metadata": {
        "id": "3U9RcS1WyrRJ"
      },
      "outputs": [
        {
          "name": "stdout",
          "output_type": "stream",
          "text": [
            "Median_Household_Income_2015.csv\n",
            "Shape of the dataset: (29322, 3)\n",
            "Number of columns: 3\n",
            "Number of rows: 29322\n",
            "Column names: ['Geographic Area', 'City', 'Median Income']\n",
            "Number of NaN values:\n",
            " Geographic Area     0\n",
            "City                0\n",
            "Median Income      51\n",
            "dtype: int64\n",
            "Number of duplicates: 0\n"
          ]
        }
      ],
      "source": [
        "print(\"Median_Household_Income_2015.csv\")\n",
        "# Check the shape of the dataset\n",
        "print(\"Shape of the dataset:\", df_hh_income.shape)\n",
        "\n",
        "# Check the number of columns and rows\n",
        "num_columns = len(df_hh_income.columns)\n",
        "num_rows = len(df_hh_income)\n",
        "print(\"Number of columns:\", num_columns)\n",
        "print(\"Number of rows:\", num_rows)\n",
        "\n",
        "# Check the column names\n",
        "column_names = df_hh_income.columns.tolist()\n",
        "print(\"Column names:\", column_names)\n",
        "\n",
        "# Check for NaN values\n",
        "print(\"Number of NaN values:\\n\", df_hh_income.isnull().sum())\n",
        "\n",
        "# Check for duplicates\n",
        "num_duplicates = df_hh_income.duplicated().sum()\n",
        "print(\"Number of duplicates:\", num_duplicates)\n"
      ]
    },
    {
      "cell_type": "code",
      "execution_count": 7,
      "metadata": {
        "id": "DmIARadGyrgs"
      },
      "outputs": [
        {
          "name": "stdout",
          "output_type": "stream",
          "text": [
            "Pct_People_Below_Poverty_Level.csv\n",
            "Shape of the dataset: (29329, 3)\n",
            "Number of columns: 3\n",
            "Number of rows: 29329\n",
            "Column names: ['Geographic Area', 'City', 'poverty_rate']\n",
            "Number of NaN values:\n",
            " Geographic Area    0\n",
            "City               0\n",
            "poverty_rate       0\n",
            "dtype: int64\n",
            "Number of duplicates: 0\n"
          ]
        }
      ],
      "source": [
        "print(\"Pct_People_Below_Poverty_Level.csv\")\n",
        "print(\"Shape of the dataset:\", df_pct_poverty.shape)\n",
        "\n",
        "num_columns = len(df_pct_poverty.columns)\n",
        "num_rows = len(df_pct_poverty)\n",
        "print(\"Number of columns:\", num_columns)\n",
        "print(\"Number of rows:\", num_rows)\n",
        "\n",
        "column_names = df_pct_poverty.columns.tolist()\n",
        "print(\"Column names:\", column_names)\n",
        "\n",
        "print(\"Number of NaN values:\\n\", df_pct_poverty.isnull().sum())\n",
        "\n",
        "num_duplicates = df_pct_poverty.duplicated().sum()\n",
        "print(\"Number of duplicates:\", num_duplicates)"
      ]
    },
    {
      "cell_type": "code",
      "execution_count": 8,
      "metadata": {
        "id": "OSgTJoX7yrcS"
      },
      "outputs": [
        {
          "name": "stdout",
          "output_type": "stream",
          "text": [
            "Pct_Over_25_Completed_High_School.csv\n",
            "Shape of the dataset: (29329, 3)\n",
            "Number of columns: 3\n",
            "Number of rows: 29329\n",
            "Column names: ['Geographic Area', 'City', 'percent_completed_hs']\n",
            "Number of NaN values:\n",
            " Geographic Area         0\n",
            "City                    0\n",
            "percent_completed_hs    0\n",
            "dtype: int64\n",
            "Number of duplicates: 0\n"
          ]
        }
      ],
      "source": [
        "print(\"Pct_Over_25_Completed_High_School.csv\")\n",
        "print(\"Shape of the dataset:\", df_pct_completed_hs.shape)\n",
        "\n",
        "num_columns = len(df_pct_completed_hs.columns)\n",
        "num_rows = len(df_pct_completed_hs)\n",
        "print(\"Number of columns:\", num_columns)\n",
        "print(\"Number of rows:\", num_rows)\n",
        "\n",
        "column_names = df_pct_completed_hs.columns.tolist()\n",
        "print(\"Column names:\", column_names)\n",
        "\n",
        "print(\"Number of NaN values:\\n\", df_pct_completed_hs.isnull().sum())\n",
        "\n",
        "num_duplicates = df_pct_completed_hs.duplicated().sum()\n",
        "print(\"Number of duplicates:\", num_duplicates)"
      ]
    },
    {
      "cell_type": "code",
      "execution_count": 9,
      "metadata": {},
      "outputs": [
        {
          "name": "stdout",
          "output_type": "stream",
          "text": [
            "Share_of_Race_By_City.csv\n",
            "Shape of the dataset: (2535, 14)\n",
            "Number of columns: 14\n",
            "Number of rows: 2535\n",
            "Column names: ['id', 'name', 'date', 'manner_of_death', 'armed', 'age', 'gender', 'race', 'city', 'state', 'signs_of_mental_illness', 'threat_level', 'flee', 'body_camera']\n",
            "Number of NaN values:\n",
            " id                           0\n",
            "name                         0\n",
            "date                         0\n",
            "manner_of_death              0\n",
            "armed                        9\n",
            "age                         77\n",
            "gender                       0\n",
            "race                       195\n",
            "city                         0\n",
            "state                        0\n",
            "signs_of_mental_illness      0\n",
            "threat_level                 0\n",
            "flee                        65\n",
            "body_camera                  0\n",
            "dtype: int64\n",
            "Number of duplicates: 0\n"
          ]
        }
      ],
      "source": [
        "print(\"Share_of_Race_By_City.csv\")\n",
        "print(\"Shape of the dataset:\", df_fatalities.shape)\n",
        "\n",
        "num_columns = len(df_fatalities.columns)\n",
        "num_rows = len(df_fatalities)\n",
        "print(\"Number of columns:\", num_columns)\n",
        "print(\"Number of rows:\", num_rows)\n",
        "\n",
        "column_names = df_fatalities.columns.tolist()\n",
        "print(\"Column names:\", column_names)\n",
        "\n",
        "print(\"Number of NaN values:\\n\", df_fatalities.isnull().sum())\n",
        "\n",
        "num_duplicates = df_fatalities.duplicated().sum()\n",
        "print(\"Number of duplicates:\", num_duplicates)"
      ]
    },
    {
      "cell_type": "code",
      "execution_count": 10,
      "metadata": {},
      "outputs": [
        {
          "name": "stdout",
          "output_type": "stream",
          "text": [
            "Deaths_by_Police_US.csv\n",
            "Shape of the dataset: (29268, 7)\n",
            "Number of columns: 7\n",
            "Number of rows: 29268\n",
            "Column names: ['Geographic area', 'City', 'share_white', 'share_black', 'share_native_american', 'share_asian', 'share_hispanic']\n",
            "Number of NaN values:\n",
            " Geographic area          0\n",
            "City                     0\n",
            "share_white              0\n",
            "share_black              0\n",
            "share_native_american    0\n",
            "share_asian              0\n",
            "share_hispanic           0\n",
            "dtype: int64\n",
            "Number of duplicates: 0\n"
          ]
        }
      ],
      "source": [
        "print(\"Deaths_by_Police_US.csv\")\n",
        "print(\"Shape of the dataset:\", df_share_race_city.shape)\n",
        "\n",
        "num_columns = len(df_share_race_city.columns)\n",
        "num_rows = len(df_share_race_city)\n",
        "print(\"Number of columns:\", num_columns)\n",
        "print(\"Number of rows:\", num_rows)\n",
        "\n",
        "column_names = df_share_race_city.columns.tolist()\n",
        "print(\"Column names:\", column_names)\n",
        "\n",
        "print(\"Number of NaN values:\\n\", df_share_race_city.isnull().sum())\n",
        "\n",
        "num_duplicates = df_share_race_city.duplicated().sum()\n",
        "print(\"Number of duplicates:\", num_duplicates)"
      ]
    },
    {
      "attachments": {},
      "cell_type": "markdown",
      "metadata": {
        "id": "p72TfMvayr2C"
      },
      "source": [
        "## Data Cleaning - Check for Missing Values and Duplicates\n",
        "\n",
        "Consider how to deal with the NaN values. Perhaps substituting 0 is appropriate. "
      ]
    },
    {
      "cell_type": "code",
      "execution_count": 11,
      "metadata": {},
      "outputs": [
        {
          "name": "stdout",
          "output_type": "stream",
          "text": [
            "Number of non-numerical values in 'Median Income' column: 1937\n",
            "Number of non-numerical values after extraction: 1904\n"
          ]
        }
      ],
      "source": [
        "import re\n",
        "\n",
        "# Check the number of non-numerical values in the 'Median Income' column\n",
        "non_numerical_mask = df_hh_income['Median Income'].apply(lambda x: bool(re.search(r'\\D', str(x))))\n",
        "num_non_numerical = non_numerical_mask.sum()\n",
        "print(\"Number of non-numerical values in 'Median Income' column:\", num_non_numerical)\n",
        "\n",
        "# Extract digits from the non-numerical values\n",
        "df_hh_income['Median Income'] = df_hh_income['Median Income'].apply(lambda x: re.sub(r'\\D', '', str(x)) if bool(re.search(r'\\D', str(x))) else x)\n",
        "\n",
        "# Convert the 'Median Income' column to numeric\n",
        "df_hh_income['Median Income'] = pd.to_numeric(df_hh_income['Median Income'], errors='coerce')\n",
        "\n",
        "# Verify the presence of non-numerical values and NaN after extraction\n",
        "num_non_numerical_after_extraction = df_hh_income['Median Income'].isnull().sum()\n",
        "print(\"Number of non-numerical values after extraction:\", num_non_numerical_after_extraction)\n"
      ]
    },
    {
      "cell_type": "code",
      "execution_count": 12,
      "metadata": {},
      "outputs": [
        {
          "name": "stdout",
          "output_type": "stream",
          "text": [
            "Number of NaN values after imputation: 0\n"
          ]
        }
      ],
      "source": [
        "mean_median_income = df_hh_income['Median Income'].mean()\n",
        "\n",
        "# Fill NaN values with the mean median income\n",
        "df_hh_income['Median Income'].fillna(mean_median_income, inplace=True)\n",
        "\n",
        "# Verify if the NaN values have been filled and replaced\n",
        "num_nan_after_imputation = df_hh_income['Median Income'].isnull().sum()\n",
        "print(\"Number of NaN values after imputation:\", num_nan_after_imputation)"
      ]
    },
    {
      "attachments": {},
      "cell_type": "markdown",
      "metadata": {
        "_uuid": "52b308c936f5835c5cd186497fe3f96e96372483",
        "id": "n3DrcXVQuRoZ"
      },
      "source": [
        "# Chart the Poverty Rate in each US State\n",
        "\n",
        "Create a bar chart that ranks the poverty rate from highest to lowest by US state. Which state has the highest poverty rate? Which state has the lowest poverty rate?  Bar Plot"
      ]
    },
    {
      "cell_type": "code",
      "execution_count": 13,
      "metadata": {
        "id": "mGxEzMDqzqmn"
      },
      "outputs": [
        {
          "name": "stderr",
          "output_type": "stream",
          "text": [
            "/var/folders/q8/y9bny_fn6kv6dv_n4j6zzs580000gn/T/ipykernel_99849/1319768049.py:4: SettingWithCopyWarning: \n",
            "A value is trying to be set on a copy of a slice from a DataFrame\n",
            "\n",
            "See the caveats in the documentation: https://pandas.pydata.org/pandas-docs/stable/user_guide/indexing.html#returning-a-view-versus-a-copy\n",
            "  df.sort_values(by='Median Income', ascending=False, inplace=True)\n"
          ]
        }
      ],
      "source": [
        "# Extract relevant columns (State, Median Income)\n",
        "df = df_hh_income[['Geographic Area', 'Median Income']]\n",
        "# Sort the DataFrame by Median Income in descending order\n",
        "df.sort_values(by='Median Income', ascending=False, inplace=True)"
      ]
    },
    {
      "cell_type": "code",
      "execution_count": 14,
      "metadata": {
        "id": "B3AM6oJQ1D_P"
      },
      "outputs": [
        {
          "data": {
            "image/png": "[encoded data removed]",
            "text/plain": [
              "<Figure size 1200x600 with 1 Axes>"
            ]
          },
          "metadata": {},
          "output_type": "display_data"
        }
      ],
      "source": [
        "# Create the bar chart\n",
        "plt.figure(figsize=(12, 6))\n",
        "plt.bar(df['Geographic Area'], df['Median Income'])\n",
        "plt.xticks(rotation='vertical')\n",
        "plt.xlabel('State')\n",
        "plt.ylabel('Median Income')\n",
        "plt.title('Median Income by State')\n",
        "plt.tight_layout()\n",
        "plt.show()"
      ]
    },
    {
      "attachments": {},
      "cell_type": "markdown",
      "metadata": {
        "id": "GhUibVz5z4sn"
      },
      "source": [
        "# Chart the High School Graduation Rate by US State\n",
        "\n",
        "Show the High School Graduation Rate in ascending order of US States. Which state has the lowest high school graduation rate? Which state has the highest?"
      ]
    },
    {
      "cell_type": "code",
      "execution_count": 17,
      "metadata": {
        "id": "laD6W9eG0JFR"
      },
      "outputs": [],
      "source": [
        "# Extract relevant columns (State, Percentage completed HS)\n",
        "df = df_pct_completed_hs[['Geographic Area', 'percent_completed_hs']]"
      ]
    },
    {
      "cell_type": "code",
      "execution_count": 25,
      "metadata": {},
      "outputs": [
        {
          "data": {
            "image/png": "[encoded data removed]",
            "text/plain": [
              "<Figure size 1200x600 with 1 Axes>"
            ]
          },
          "metadata": {},
          "output_type": "display_data"
        }
      ],
      "source": [
        "# Create the bar chart\n",
        "plt.figure(figsize=(12, 6))\n",
        "plt.bar(df['Geographic Area'], df['percent_completed_hs'])\n",
        "plt.xticks(rotation='vertical')\n",
        "plt.yscale('log')\n",
        "yticks = [1, 10, 100, 1000]\n",
        "plt.yticks(yticks)\n",
        "plt.xlabel('State')\n",
        "plt.ylabel('Percent over 25 completed HS')\n",
        "plt.title('Percent over 25 completed HS by State')\n",
        "plt.show()"
      ]
    },
    {
      "attachments": {},
      "cell_type": "markdown",
      "metadata": {
        "id": "ENGTEmPQ0Rvt"
      },
      "source": [
        "# Visualise the Relationship between Poverty Rates and High School Graduation Rates\n",
        "\n",
        "#### Create a line chart with two y-axes to show if the rations of poverty and high school graduation move together.  "
      ]
    },
    {
      "cell_type": "code",
      "execution_count": null,
      "metadata": {
        "id": "MkNk5U8v0JPB"
      },
      "outputs": [],
      "source": []
    },
    {
      "cell_type": "code",
      "execution_count": null,
      "metadata": {
        "id": "urRMqQG_0Nmo"
      },
      "outputs": [],
      "source": []
    },
    {
      "attachments": {},
      "cell_type": "markdown",
      "metadata": {
        "id": "Zavx_8PL1Jy9"
      },
      "source": [
        "#### Now use a Seaborn .jointplot() with a Kernel Density Estimate (KDE) and/or scatter plot to visualise the same relationship"
      ]
    },
    {
      "cell_type": "code",
      "execution_count": null,
      "metadata": {
        "id": "u77CHfdX0pjW"
      },
      "outputs": [],
      "source": []
    },
    {
      "cell_type": "code",
      "execution_count": null,
      "metadata": {
        "id": "CYy89o-u1zu0"
      },
      "outputs": [],
      "source": []
    },
    {
      "attachments": {},
      "cell_type": "markdown",
      "metadata": {
        "id": "PXNFQmHl10Fx"
      },
      "source": [
        "#### Seaborn's `.lmplot()` or `.regplot()` to show a linear regression between the poverty ratio and the high school graduation ratio. "
      ]
    },
    {
      "cell_type": "code",
      "execution_count": null,
      "metadata": {
        "id": "F1xrjFgT1znI"
      },
      "outputs": [],
      "source": []
    },
    {
      "attachments": {},
      "cell_type": "markdown",
      "metadata": {
        "id": "QJTbZZKg0p6i"
      },
      "source": [
        "# Create a Bar Chart with Subsections Showing the Racial Makeup of Each US State\n",
        "\n",
        "Visualise the share of the white, black, hispanic, asian and native american population in each US State using a bar chart with sub sections. "
      ]
    },
    {
      "cell_type": "code",
      "execution_count": null,
      "metadata": {
        "id": "YQbXb6Ex09D9"
      },
      "outputs": [],
      "source": []
    },
    {
      "cell_type": "code",
      "execution_count": null,
      "metadata": {
        "id": "LqrimlLo09Na"
      },
      "outputs": [],
      "source": []
    },
    {
      "attachments": {},
      "cell_type": "markdown",
      "metadata": {
        "_uuid": "77493cfd86a031612be8fb8d60f27713e74e6d80",
        "id": "K7xvQXkjuRo7"
      },
      "source": [
        "# Create Donut Chart by of People Killed by Race\n",
        "\n",
        "Hint: Use `.value_counts()`"
      ]
    },
    {
      "cell_type": "code",
      "execution_count": null,
      "metadata": {
        "id": "1nOafPdy1u9Z"
      },
      "outputs": [],
      "source": []
    },
    {
      "cell_type": "code",
      "execution_count": null,
      "metadata": {
        "id": "YN3hzJTe1vHJ"
      },
      "outputs": [],
      "source": []
    },
    {
      "attachments": {},
      "cell_type": "markdown",
      "metadata": {
        "id": "kr-8Rezn3Bep"
      },
      "source": [
        "# Create a Chart Comparing the Total Number of Deaths of Men and Women\n",
        "\n",
        "Use `df_fatalities` to illustrate how many more men are killed compared to women. "
      ]
    },
    {
      "cell_type": "code",
      "execution_count": null,
      "metadata": {
        "id": "joH1L4303BsJ"
      },
      "outputs": [],
      "source": []
    },
    {
      "cell_type": "code",
      "execution_count": null,
      "metadata": {
        "id": "X4MrMkVa3MTk"
      },
      "outputs": [],
      "source": []
    },
    {
      "attachments": {},
      "cell_type": "markdown",
      "metadata": {
        "_uuid": "cd1531c8421bfb6967cebf7039056779f9b960a6",
        "id": "ZxbBdvM0uRpQ"
      },
      "source": [
        "# Create a Box Plot Showing the Age and Manner of Death\n",
        "\n",
        "Break out the data by gender using `df_fatalities`. Is there a difference between men and women in the manner of death? "
      ]
    },
    {
      "cell_type": "code",
      "execution_count": null,
      "metadata": {
        "id": "WdPPZLJY2shA"
      },
      "outputs": [],
      "source": []
    },
    {
      "cell_type": "code",
      "execution_count": null,
      "metadata": {
        "id": "tpPq4uFc2sql"
      },
      "outputs": [],
      "source": []
    },
    {
      "cell_type": "code",
      "execution_count": null,
      "metadata": {
        "id": "EnFbXlRm3XK6"
      },
      "outputs": [],
      "source": []
    },
    {
      "attachments": {},
      "cell_type": "markdown",
      "metadata": {
        "id": "h1pAgkyb3Xb0"
      },
      "source": [
        "# Were People Armed? \n",
        "\n",
        "In what percentage of police killings were people armed? Create chart that show what kind of weapon (if any) the deceased was carrying. How many of the people killed by police were armed with guns versus unarmed? "
      ]
    },
    {
      "cell_type": "code",
      "execution_count": null,
      "metadata": {
        "id": "0d9B3Pec4TdM"
      },
      "outputs": [],
      "source": []
    },
    {
      "cell_type": "code",
      "execution_count": null,
      "metadata": {
        "id": "vdGTO3pW4Tp5"
      },
      "outputs": [],
      "source": []
    },
    {
      "cell_type": "code",
      "execution_count": null,
      "metadata": {
        "id": "qnO_rckl4WuJ"
      },
      "outputs": [],
      "source": []
    },
    {
      "attachments": {},
      "cell_type": "markdown",
      "metadata": {
        "id": "IgD2a5-L4W_I"
      },
      "source": [
        "# How Old Were the People Killed?"
      ]
    },
    {
      "attachments": {},
      "cell_type": "markdown",
      "metadata": {
        "id": "BNPrdT-W9lf3"
      },
      "source": [
        "Work out what percentage of people killed were under 25 years old.  "
      ]
    },
    {
      "cell_type": "code",
      "execution_count": null,
      "metadata": {
        "id": "zSyDgzb542O9"
      },
      "outputs": [],
      "source": []
    },
    {
      "attachments": {},
      "cell_type": "markdown",
      "metadata": {
        "id": "5XrAD_ey9qBB"
      },
      "source": [
        "Create a histogram and KDE plot that shows the distribution of ages of the people killed by police. "
      ]
    },
    {
      "cell_type": "code",
      "execution_count": null,
      "metadata": {
        "id": "U6B1Qp7l42H8"
      },
      "outputs": [],
      "source": []
    },
    {
      "attachments": {},
      "cell_type": "markdown",
      "metadata": {
        "id": "zcqqPDo79rTx"
      },
      "source": [
        "Create a seperate KDE plot for each race. Is there a difference between the distributions? "
      ]
    },
    {
      "cell_type": "code",
      "execution_count": null,
      "metadata": {
        "id": "ubUnMjok43Zo"
      },
      "outputs": [],
      "source": []
    },
    {
      "attachments": {},
      "cell_type": "markdown",
      "metadata": {
        "id": "JkcHvMUt43uE"
      },
      "source": [
        "# Race of People Killed\n",
        "\n",
        "Create a chart that shows the total number of people killed by race. "
      ]
    },
    {
      "cell_type": "code",
      "execution_count": null,
      "metadata": {
        "id": "e8wZvBrt5BEb"
      },
      "outputs": [],
      "source": []
    },
    {
      "cell_type": "code",
      "execution_count": null,
      "metadata": {
        "id": "_aqN0wC45BOl"
      },
      "outputs": [],
      "source": []
    },
    {
      "attachments": {},
      "cell_type": "markdown",
      "metadata": {
        "id": "SJaNm4rC5nWm"
      },
      "source": [
        "# Mental Illness and Police Killings\n",
        "\n",
        "What percentage of people killed by police have been diagnosed with a mental illness?"
      ]
    },
    {
      "cell_type": "code",
      "execution_count": null,
      "metadata": {
        "id": "dbuGvCnN5ytC"
      },
      "outputs": [],
      "source": []
    },
    {
      "cell_type": "code",
      "execution_count": null,
      "metadata": {
        "id": "BsKDVLiY5CP_"
      },
      "outputs": [],
      "source": []
    },
    {
      "attachments": {},
      "cell_type": "markdown",
      "metadata": {
        "id": "R0WSPeKD5Cir"
      },
      "source": [
        "# In Which Cities Do the Most Police Killings Take Place?\n",
        "\n",
        "Create a chart ranking the top 10 cities with the most police killings. Which cities are the most dangerous?  "
      ]
    },
    {
      "cell_type": "code",
      "execution_count": null,
      "metadata": {
        "id": "NYVwo3qy5UV3"
      },
      "outputs": [],
      "source": []
    },
    {
      "cell_type": "code",
      "execution_count": null,
      "metadata": {
        "id": "T_FU4GFk5Upa"
      },
      "outputs": [],
      "source": []
    },
    {
      "attachments": {},
      "cell_type": "markdown",
      "metadata": {
        "id": "AqcOW6ca8JMD"
      },
      "source": [
        "# Rate of Death by Race\n",
        "\n",
        "Find the share of each race in the top 10 cities. Contrast this with the top 10 cities of police killings to work out the rate at which people are killed by race for each city. "
      ]
    },
    {
      "cell_type": "code",
      "execution_count": null,
      "metadata": {
        "id": "FkjAUlKy8I2g"
      },
      "outputs": [],
      "source": []
    },
    {
      "cell_type": "code",
      "execution_count": null,
      "metadata": {
        "id": "dA3Hs9b55V59"
      },
      "outputs": [],
      "source": []
    },
    {
      "attachments": {},
      "cell_type": "markdown",
      "metadata": {
        "id": "1HUJksrI5WFb"
      },
      "source": [
        "# Create a Choropleth Map of Police Killings by US State\n",
        "\n",
        "Which states are the most dangerous? Compare your map with your previous chart. Are these the same states with high degrees of poverty? "
      ]
    },
    {
      "cell_type": "code",
      "execution_count": null,
      "metadata": {
        "id": "u3UuX4Yo5dBA"
      },
      "outputs": [],
      "source": []
    },
    {
      "cell_type": "code",
      "execution_count": null,
      "metadata": {
        "id": "Y6VLPDeN5dKO"
      },
      "outputs": [],
      "source": []
    },
    {
      "attachments": {},
      "cell_type": "markdown",
      "metadata": {
        "id": "37UsmVYF6hA2"
      },
      "source": [
        "# Number of Police Killings Over Time\n",
        "\n",
        "Analyse the Number of Police Killings over Time. Is there a trend in the data? "
      ]
    },
    {
      "cell_type": "code",
      "execution_count": null,
      "metadata": {
        "id": "nITf1IhP6gpI"
      },
      "outputs": [],
      "source": []
    },
    {
      "cell_type": "code",
      "execution_count": null,
      "metadata": {
        "id": "Q_vxjD_A7JRh"
      },
      "outputs": [],
      "source": []
    },
    {
      "cell_type": "code",
      "execution_count": null,
      "metadata": {
        "id": "mOqtie707JU8"
      },
      "outputs": [],
      "source": []
    },
    {
      "cell_type": "code",
      "execution_count": null,
      "metadata": {
        "id": "5fjhL8Lk7JKa"
      },
      "outputs": [],
      "source": []
    },
    {
      "attachments": {},
      "cell_type": "markdown",
      "metadata": {
        "id": "9o6uLFpS61nw"
      },
      "source": [
        "# Epilogue\n",
        "\n",
        "Now that you have analysed the data yourself, read [The Washington Post's analysis here](https://www.washingtonpost.com/graphics/investigations/police-shootings-database/)."
      ]
    },
    {
      "cell_type": "code",
      "execution_count": null,
      "metadata": {
        "id": "8PjgzuNa61I1"
      },
      "outputs": [],
      "source": []
    }
  ],
  "metadata": {
    "colab": {
      "name": "Fatal Force (start).ipynb",
      "provenance": []
    },
    "kernelspec": {
      "display_name": "Python 3",
      "language": "python",
      "name": "python3"
    },
    "language_info": {
      "codemirror_mode": {
        "name": "ipython",
        "version": 3
      },
      "file_extension": ".py",
      "mimetype": "text/x-python",
      "name": "python",
      "nbconvert_exporter": "python",
      "pygments_lexer": "ipython3",
      "version": "3.11.4"
    }
  },
  "nbformat": 4,
  "nbformat_minor": 0
}
